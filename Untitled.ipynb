{
 "cells": [
  {
   "cell_type": "code",
   "execution_count": 1,
   "id": "16c4f99f-5cf3-44f9-82c9-6a2bf1734173",
   "metadata": {},
   "outputs": [],
   "source": [
    "import cv2\n",
    "import numpy as np"
   ]
  },
  {
   "cell_type": "code",
   "execution_count": 1153,
   "id": "8c91a08e-d981-4f96-88ae-ebf074b529b2",
   "metadata": {
    "scrolled": true
   },
   "outputs": [
    {
     "data": {
      "image/jpeg": "[encoded data removed]",
      "text/plain": [
       "<IPython.core.display.Image object>"
      ]
     },
     "metadata": {},
     "output_type": "display_data"
    }
   ],
   "source": [
    "from IPython.display import Image, display\n",
    "\n",
    "# Display an image\n",
    "image_path = \"./data/images9.jpeg\"  # Replace with your image path\n",
    "display(Image(filename=image_path))"
   ]
  },
  {
   "cell_type": "code",
   "execution_count": 1155,
   "id": "bbf251c0-f50d-40ee-82a1-6c065e9d4dd1",
   "metadata": {},
   "outputs": [],
   "source": [
    "# Load the image\n",
    "image = cv2.imread(image_path)\n",
    "gray = cv2.cvtColor(image, cv2.COLOR_BGR2GRAY)"
   ]
  },
  {
   "cell_type": "code",
   "execution_count": 1157,
   "id": "14849254-a93b-44d4-be06-0983ac112d96",
   "metadata": {},
   "outputs": [],
   "source": [
    "# Apply thresholding\n",
    "_, thresh = cv2.threshold(gray, 127, 255, cv2.THRESH_BINARY)"
   ]
  },
  {
   "cell_type": "code",
   "execution_count": 1159,
   "id": "d7646bda-d3d4-4660-9fac-f871188b82bb",
   "metadata": {},
   "outputs": [],
   "source": [
    "# Find contours\n",
    "contours, _ = cv2.findContours(thresh, cv2.RETR_EXTERNAL, cv2.CHAIN_APPROX_SIMPLE)"
   ]
  },
  {
   "cell_type": "code",
   "execution_count": 1161,
   "id": "ae16c00a-176b-4326-8e49-53a11468b696",
   "metadata": {},
   "outputs": [],
   "source": [
    "# Draw boundaries and represent each pillar with a distinct color\n",
    "output_image = image.copy()\n",
    "pillars_points = []"
   ]
  },
  {
   "cell_type": "code",
   "execution_count": 1163,
   "id": "cd1ecab7-b19c-4960-aa62-1853ab20ce7c",
   "metadata": {},
   "outputs": [],
   "source": [
    "# # Set a minimum area or height threshold to filter noise\n",
    "# MIN_AREA = 30  # Adjust as per your image (in pixels)\n",
    "# MIN_HEIGHT = 100  # Minimum height of the bounding box (in pixels)\n",
    "\n",
    "# # for idx, contour in enumerate(contours):\n",
    "# #     color = (np.random.randint(0, 256), np.random.randint(0, 256), np.random.randint(0, 256))  # Random color\n",
    "# #     cv2.drawContours(output_image, [contour], -1, color, 2)  # Draw contour with color\n",
    "# #     points = contour.reshape(-1, 2)  # Flatten contour to get points\n",
    "# #     pillars_points.append(points)\n",
    "\n",
    "# for contour in contours:\n",
    "#     # Calculate area and bounding box\n",
    "#     area = cv2.contourArea(contour)\n",
    "#     x, y, w, h = cv2.boundingRect(contour)\n",
    "\n",
    "#     # Filter out small noise by area or height\n",
    "#     if area > MIN_AREA and h > MIN_HEIGHT:\n",
    "#         # Draw contours and collect points if valid\n",
    "#         color = (np.random.randint(0, 256), np.random.randint(0, 256), np.random.randint(0, 256))  # Random color\n",
    "#         cv2.drawContours(output_image, [contour], -1, color, 2)\n",
    "#         points = contour.reshape(-1, 2)  # Flatten contour to get points\n",
    "#         pillars_points.append(points)\n",
    "\n",
    "\n",
    "# Set a minimum area or height threshold to filter noise\n",
    "MIN_AREA = 100  # Adjust as per your image (in pixels)\n",
    "MIN_HEIGHT = 5   # Minimum height of the bounding box (in pixels)\n",
    "\n",
    "# for idx, contour in enumerate(contours):\n",
    "#     # Calculate area and bounding box\n",
    "#     area = cv2.contourArea(contour)\n",
    "#     x, y, w, h = cv2.boundingRect(contour)\n",
    "\n",
    "#     # Filter out small noise by area or height\n",
    "#     if area > MIN_AREA and h > MIN_HEIGHT:\n",
    "#         # Generate a new random color for each pillar\n",
    "#         color = tuple(np.random.randint(0, 256, size=3).tolist())  # Random RGB color\n",
    "#         cv2.drawContours(output_image, [contour], -1, color, 2)  # Draw contour with the generated color\n",
    "\n",
    "#         # Collect points of the contour\n",
    "#         points = contour.reshape(-1, 2)  # Flatten contour to get points\n",
    "#         pillars_points.append(points)\n",
    "\n",
    "for contour in contours:\n",
    "    # Calculate area and bounding box\n",
    "    area = cv2.contourArea(contour)\n",
    "    x, y, w, h = cv2.boundingRect(contour)\n",
    "\n",
    "    # Filter out small objects and non-pillar-like shapes\n",
    "    aspect_ratio = float(w) / h\n",
    "    if area > MIN_AREA and h > MIN_HEIGHT and 0.1 <= aspect_ratio <= 0.8:\n",
    "        # Generate a new random color for each pillar\n",
    "        color = tuple(np.random.randint(0, 256, size=3).tolist())\n",
    "        cv2.drawContours(output_image, [contour], -1, color, 2)  # Draw the valid pillar\n",
    "        points = contour.reshape(-1, 2)  # Flatten contour to get points\n",
    "        pillars_points.append(points)"
   ]
  },
  {
   "cell_type": "code",
   "execution_count": 1165,
   "id": "6092555b-463e-41a0-b18d-2ed86ef1de23",
   "metadata": {},
   "outputs": [
    {
     "data": {
      "text/plain": [
       "True"
      ]
     },
     "execution_count": 1165,
     "metadata": {},
     "output_type": "execute_result"
    }
   ],
   "source": [
    "# Save the result image\n",
    "cv2.imwrite('output_image.jpg', output_image)"
   ]
  },
  {
   "cell_type": "code",
   "execution_count": 1167,
   "id": "b9cf7c68-d5e1-403b-8114-b4177bc23b24",
   "metadata": {},
   "outputs": [],
   "source": [
    "# Dump the points to a file\n",
    "with open('pillar_points.txt', 'w') as file:\n",
    "    for pillar in pillars_points:\n",
    "        for point in pillar:\n",
    "            file.write(f\"{point[0]},{point[1]}\\n\")\n",
    "\n",
    "# Optionally, show the result\n",
    "cv2.imshow('Identified Pillars', output_image)\n",
    "cv2.waitKey(0)\n",
    "cv2.destroyAllWindows()"
   ]
  },
  {
   "cell_type": "code",
   "execution_count": null,
   "id": "b2f18224-d5ec-472b-901d-a2d5ecdc200a",
   "metadata": {},
   "outputs": [],
   "source": []
  },
  {
   "cell_type": "code",
   "execution_count": null,
   "id": "f2b13894-708c-4a73-aeb4-929d85c06ce5",
   "metadata": {},
   "outputs": [],
   "source": []
  },
  {
   "cell_type": "code",
   "execution_count": null,
   "id": "26e6dd02-105e-4a2e-b5be-9d41e1d8b70a",
   "metadata": {},
   "outputs": [],
   "source": []
  }
 ],
 "metadata": {
  "kernelspec": {
   "display_name": "Python 3 (ipykernel)",
   "language": "python",
   "name": "python3"
  },
  "language_info": {
   "codemirror_mode": {
    "name": "ipython",
    "version": 3
   },
   "file_extension": ".py",
   "mimetype": "text/x-python",
   "name": "python",
   "nbconvert_exporter": "python",
   "pygments_lexer": "ipython3",
   "version": "3.11.7"
  }
 },
 "nbformat": 4,
 "nbformat_minor": 5
}
